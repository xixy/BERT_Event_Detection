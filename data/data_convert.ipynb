{
 "cells": [
  {
   "cell_type": "code",
   "execution_count": 15,
   "metadata": {},
   "outputs": [],
   "source": [
    "# 将数据处理为去掉BIO的形式\n",
    "train_data_path = './train.data.en.txt'\n",
    "test_data_path = './test.data.en.txt'\n",
    "dev_data_path = './dev.data.en.txt'\n",
    "\n",
    "new_train_data_path = './train.data.en.new.txt'\n",
    "new_test_data_path = './test.data.en.new.txt'\n",
    "new_dev_data_path = './dev.data.en.new.txt'\n",
    "\n",
    "labels = []"
   ]
  },
  {
   "cell_type": "code",
   "execution_count": 16,
   "metadata": {},
   "outputs": [],
   "source": [
    "def convert(original_file, new_file):\n",
    "    global labels\n",
    "    with open(original_file, 'r') as f1:\n",
    "        with open(new_file, 'w') as f2:\n",
    "            for line in f1:\n",
    "                if len(line) < 2:\n",
    "                    f2.write(line)\n",
    "                else:\n",
    "                    line = line.strip()\n",
    "                    contents = line.split(' ')\n",
    "                    if len(contents)  > 3:\n",
    "                        contents[1] = contents[1][2:] if contents[1] != 'O' else contents[1]\n",
    "                        if contents[1] not in labels:\n",
    "                            labels.append(contents[1])\n",
    "                        f2.write(' '.join(contents) + '\\n')\n",
    "#                         print(contents)\n",
    "#                         return None\n",
    "                "
   ]
  },
  {
   "cell_type": "code",
   "execution_count": 17,
   "metadata": {},
   "outputs": [],
   "source": [
    "convert(dev_data_path, new_dev_data_path)"
   ]
  },
  {
   "cell_type": "code",
   "execution_count": 18,
   "metadata": {},
   "outputs": [],
   "source": [
    "convert(test_data_path, new_test_data_path)"
   ]
  },
  {
   "cell_type": "code",
   "execution_count": 19,
   "metadata": {},
   "outputs": [],
   "source": [
    "convert(train_data_path, new_train_data_path)"
   ]
  },
  {
   "cell_type": "code",
   "execution_count": 22,
   "metadata": {},
   "outputs": [
    {
     "name": "stdout",
     "output_type": "stream",
     "text": [
      "['Acquit', 'Appeal', 'Arrest-Jail', 'Attack', 'Be-Born', 'Charge-Indict', 'Convict', 'Declare-Bankruptcy', 'Demonstrate', 'Die', 'Divorce', 'Elect', 'End-Org', 'End-Position', 'Execute', 'Extradite', 'Fine', 'Injure', 'Marry', 'Meet', 'Merge-Org', 'Nominate', 'O', 'Pardon', 'Phone-Write', 'Release-Parole', 'Sentence', 'Start-Org', 'Start-Position', 'Sue', 'Transfer-Money', 'Transfer-Ownership', 'Transport', 'Trial-Hearing']\n"
     ]
    }
   ],
   "source": [
    "print(sorted(labels))"
   ]
  },
  {
   "cell_type": "code",
   "execution_count": 21,
   "metadata": {},
   "outputs": [
    {
     "data": {
      "text/plain": [
       "34"
      ]
     },
     "execution_count": 21,
     "metadata": {},
     "output_type": "execute_result"
    }
   ],
   "source": [
    "len(labels)"
   ]
  },
  {
   "cell_type": "code",
   "execution_count": null,
   "metadata": {},
   "outputs": [],
   "source": []
  }
 ],
 "metadata": {
  "kernelspec": {
   "display_name": "Python 3",
   "language": "python",
   "name": "python3"
  },
  "language_info": {
   "codemirror_mode": {
    "name": "ipython",
    "version": 3
   },
   "file_extension": ".py",
   "mimetype": "text/x-python",
   "name": "python",
   "nbconvert_exporter": "python",
   "pygments_lexer": "ipython3",
   "version": "3.6.5"
  }
 },
 "nbformat": 4,
 "nbformat_minor": 2
}
